{
 "cells": [
  {
   "cell_type": "markdown",
   "metadata": {},
   "source": [
    "##TODO: Introdução"
   ]
  },
  {
   "cell_type": "code",
   "execution_count": null,
   "metadata": {},
   "outputs": [],
   "source": [
    "## Install Required Packs\n",
    "# !pip install pandas\n",
    "# !pip install numpy\n",
    "# !pip install statsmodels\n",
    "# !pip install matplotlib\n",
    "# !pip install -U seaborn\n",
    "# !pip install pingouin\n",
    "# !pip install statstests\n",
    "# !pip install scipy\n",
    "# !pip install openpyxl"
   ]
  },
  {
   "cell_type": "code",
   "execution_count": null,
   "metadata": {},
   "outputs": [],
   "source": [
    "## Import Required Packs\n",
    "import pandas as pd\n",
    "import statsmodels.api as sm\n",
    "from Utils.VariablesExtensions import VariablesExtensions\n",
    "from Utils.GraphTools import GraphTools"
   ]
  },
  {
   "cell_type": "code",
   "execution_count": null,
   "metadata": {},
   "outputs": [],
   "source": [
    "## Load dataset (Source: https://www.kaggle.com/datasets/elakiricoder/jiffs-house-price-prediction-dataset)\n",
    "house_dataframe = pd.read_excel(\"../Datasets/house_price.xlsx\")\n",
    "\n",
    "# Get Metric Variables\n",
    "metric_indexes = [\n",
    "  'land_size_sqm',\n",
    "  'house_size_sqm',\n",
    "  'no_of_rooms',\n",
    "  'no_of_bathrooms',\n",
    "  'distance_to_school',\n",
    "  'house_age',\n",
    "  'distance_to_supermarket_km',\n",
    "  'crime_rate_index',\n",
    "  'property_value']\n",
    "\n",
    "metric_variables = house_dataframe[metric_indexes].describe()\n",
    "\n",
    "print(metric_variables)"
   ]
  },
  {
   "cell_type": "code",
   "execution_count": null,
   "metadata": {},
   "outputs": [],
   "source": [
    "## Get Nominal Variables \n",
    "nominal_indexes = [\n",
    "  'large_living_room',\n",
    "  'parking_space',\n",
    "  'front_garden',\n",
    "  'swimming_pool',\n",
    "  'wall_fence',\n",
    "  'water_front',\n",
    "  'room_size_class']\n",
    "\n",
    "VariablesExtensions.print_nominal_counts(\n",
    "  dataFrame=house_dataframe,\n",
    "  indexes=nominal_indexes)\n",
    "\n",
    "## Binarization of nominal variables\n",
    "dummified_dataframe = pd.get_dummies(\n",
    "  data=house_dataframe, \n",
    "  columns=nominal_indexes, \n",
    "  drop_first=True,\n",
    "  dtype='float')"
   ]
  },
  {
   "cell_type": "code",
   "execution_count": null,
   "metadata": {},
   "outputs": [],
   "source": [
    "target_index = 'property_value'\n",
    "expresion = VariablesExtensions.get_regression_command_string(\n",
    "  dataFrame=dummified_dataframe,\n",
    "  target_index=target_index)\n",
    "print(expresion)"
   ]
  },
  {
   "cell_type": "code",
   "execution_count": null,
   "metadata": {},
   "outputs": [],
   "source": [
    "## Calculate model using multiple linear regression\n",
    "model = sm.OLS.from_formula(\n",
    "  formula = expresion,\n",
    "  data=dummified_dataframe).fit()\n",
    "model.summary()"
   ]
  },
  {
   "cell_type": "code",
   "execution_count": null,
   "metadata": {},
   "outputs": [],
   "source": [
    "## Analyzing the model using the sample observations\n",
    "model_analysis = pd.DataFrame()\n",
    "model_analysis['sample_values'] = house_dataframe[target_index]\n",
    "model_analysis['fitted_values'] = model.fittedvalues\n",
    "model_analysis['residual_values'] = model.resid\n",
    "model_analysis['residual_percent'] = (model.resid/house_dataframe[target_index]) * 100\n",
    "\n",
    "#print(model_analysis)\n",
    "\n",
    "GraphTools.generate_sample_fitted_analysis_graph(\n",
    "  dataFrame=model_analysis,\n",
    "  target_index_name='sample_values',\n",
    "  fitted_index_name='fitted_values',\n",
    "  title='Graphical Analysis - Fitted vs. Sample values'\n",
    ")"
   ]
  },
  {
   "cell_type": "markdown",
   "metadata": {},
   "source": [
    "#%% Coeficientes\n",
    "\n",
    "# Note que o 'house_size_sqm' e 'no_of_rooms' agora têm impactos positivos\n",
    "\n",
    "#%% Realizando predições para outras observações (modelo original)\n",
    "\n",
    "# Qual é o preço médio estimado para uma casa com:\n",
    "    # tamanho do terreno (m²) = 350\n",
    "    # tamanho da casa (m²) = 200\n",
    "    # quantidade de quartos = 3\n",
    "    # quantidade de banheiros = 3\n",
    "    # distância até a escola (km) = 4.5\n",
    "    # idade da casa (anos) = 5\n",
    "    # distância até o mercado (km) = 1.0\n",
    "    # indicador de criminalidade da região = 1.20\n",
    "    # sala ampla: sim\n",
    "    # garagem: sim\n",
    "    # jardim frontal: sim\n",
    "    # piscina: sim\n",
    "    # cercado: não\n",
    "    # vista para lagos/rios: não\n",
    "    # classificação dos quartos: classe 2"
   ]
  },
  {
   "cell_type": "code",
   "execution_count": null,
   "metadata": {},
   "outputs": [],
   "source": [
    "# Utilizando a função \"predict\"\n",
    "values_to_predit = pd.DataFrame({ 'land_size_sqm': [350],\n",
    "                                  'house_size_sqm': [200], \n",
    "                                  'no_of_rooms': [3], \n",
    "                                  'no_of_bathrooms': [3],\n",
    "                                  'distance_to_school': [4.5], \n",
    "                                  'house_age': [5], \n",
    "                                  'distance_to_supermarket_km': [1.0],\n",
    "                                  'crime_rate_index': [1.2], \n",
    "                                  'large_living_room_Yes': [1],\n",
    "                                  'parking_space_Yes': [1], \n",
    "                                  'front_garden_Yes': [1], \n",
    "                                  'swimming_pool_Yes': [1],\n",
    "                                  'wall_fence_Yes': [0],\n",
    "                                  'water_front_Yes': [0], \n",
    "                                  'room_size_class_Three': [0],\n",
    "                                  'room_size_class_Two': [1], \n",
    "                                  'room_size_class_Zero': [0]})\n",
    "\n",
    "predict_property = model.predict(values_to_predit) \n",
    "#print(predict_property)\n",
    "\n",
    "currency_convention = round((predict_property[0]),2)\n",
    "print(f'Value predicted by the model: ${currency_convention}')"
   ]
  },
  {
   "cell_type": "markdown",
   "metadata": {},
   "source": [
    "#%% Alguns coeficientes podem apresentar uma interpretação \"inesperada\"\n",
    "\n",
    "# Exemplos:\n",
    "    ## quanto maior o tamanho da casa, menor o preço (ceteris paribus)\n",
    "    ## quanto mais quartos, menor o preço (ceteris paribus)\n",
    "    \n",
    "# É importante notar que os resultados são interpretados de forma multivariada\n",
    "    ## o resultado ocorre na presença das demais variáveis\n",
    "    \n",
    "#%% Matriz de correlações de Pearson entre variáveis métricas"
   ]
  },
  {
   "cell_type": "code",
   "execution_count": null,
   "metadata": {},
   "outputs": [],
   "source": [
    "corretation_matrix = house_dataframe[metric_indexes].corr()\n",
    "##print(metric_indexes_correlate)\n",
    "\n",
    "GraphTools.generate_pearson_correlation_graph(\n",
    "  dataFrame=corretation_matrix,\n",
    "  title='Pearson correlations')"
   ]
  },
  {
   "cell_type": "markdown",
   "metadata": {},
   "source": [
    "#%% Criando nova da fórmula\n",
    "\n",
    "# 'land_size_sqm' tem correlação elevada com 'house_size_sqm' e 'no_of_rooms'\n",
    "# Vamos remover o tamanho do terreno do modelo"
   ]
  },
  {
   "cell_type": "code",
   "execution_count": null,
   "metadata": {},
   "outputs": [],
   "source": [
    "index_to_remove = 'land_size_sqm'\n",
    "\n",
    "new_expresion = VariablesExtensions.get_regression_command_string(\n",
    "  dataFrame=dummified_dataframe,\n",
    "  target_index=target_index,\n",
    "  columns_to_remove=[index_to_remove])\n",
    "\n",
    "new_model = sm.OLS.from_formula(formula = new_expresion,\n",
    "                                data=dummified_dataframe).fit()\n",
    "new_model.summary()"
   ]
  }
 ],
 "metadata": {
  "kernelspec": {
   "display_name": "Python 3",
   "language": "python",
   "name": "python3"
  },
  "language_info": {
   "codemirror_mode": {
    "name": "ipython",
    "version": 3
   },
   "file_extension": ".py",
   "mimetype": "text/x-python",
   "name": "python",
   "nbconvert_exporter": "python",
   "pygments_lexer": "ipython3",
   "version": "3.10.12"
  }
 },
 "nbformat": 4,
 "nbformat_minor": 2
}
