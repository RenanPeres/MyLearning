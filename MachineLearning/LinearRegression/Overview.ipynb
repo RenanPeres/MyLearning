{
 "cells": [
  {
   "cell_type": "markdown",
   "metadata": {},
   "source": [
    "##TODO: Introdução"
   ]
  },
  {
   "cell_type": "code",
   "execution_count": null,
   "metadata": {
    "vscode": {
     "languageId": "plaintext"
    }
   },
   "outputs": [],
   "source": [
    "## Install Required Packs\n",
    "!pip install pandas\n",
    "!pip install numpy\n",
    "!pip install statsmodels\n",
    "!pip install matplotlib\n",
    "!pip install -U seaborn\n",
    "!pip install pingouin\n",
    "!pip install statstests\n",
    "!pip install scipy"
   ]
  },
  {
   "cell_type": "code",
   "execution_count": null,
   "metadata": {
    "vscode": {
     "languageId": "plaintext"
    }
   },
   "outputs": [],
   "source": [
    "## Import Required Packs\n",
    "import pandas as pd\n",
    "import numpy as np\n",
    "import statsmodels.api as sm\n",
    "import matplotlib.pyplot as plt\n",
    "import seaborn as sns\n",
    "import pingouin as pg\n",
    "from statstests.process import stepwise"
   ]
  },
  {
   "cell_type": "code",
   "execution_count": null,
   "metadata": {
    "vscode": {
     "languageId": "plaintext"
    }
   },
   "outputs": [],
   "source": [
    "## Load dataset (Source: https://www.kaggle.com/datasets/elakiricoder/jiffs-house-price-prediction-dataset)\n",
    "casas = pd.read_excel(\"preco_casas.xlsx\")\n",
    "\n",
    "## Get Metric Variables\n",
    "tab_desc = casas[['land_size_sqm',\n",
    "                  'house_size_sqm',\n",
    "                  'no_of_rooms',\n",
    "                  'no_of_bathrooms',\n",
    "                  'distance_to_school',\n",
    "                  'house_age',\n",
    "                  'distance_to_supermarket_km',\n",
    "                  'crime_rate_index',\n",
    "                  'property_value']].describe().T\n",
    "\n",
    "## Get Nominal Variables \n",
    "print(casas['large_living_room'].value_counts())\n",
    "print(casas['parking_space'].value_counts())\n",
    "print(casas['front_garden'].value_counts())\n",
    "print(casas['swimming_pool'].value_counts())\n",
    "print(casas['wall_fence'].value_counts())\n",
    "print(casas['water_front'].value_counts())\n",
    "print(casas['room_size_class'].value_counts())\n",
    "\n",
    "## Binarization of nominal variables\n",
    "casas_dummy = pd.get_dummies(data=casas, \n",
    "                             columns=['large_living_room',\n",
    "                                      'parking_space',\n",
    "                                      'front_garden',\n",
    "                                      'swimming_pool',\n",
    "                                      'wall_fence',\n",
    "                                      'water_front',\n",
    "                                      'room_size_class'], \n",
    "                             drop_first=True,\n",
    "                             dtype='float')"
   ]
  },
  {
   "cell_type": "code",
   "execution_count": null,
   "metadata": {
    "vscode": {
     "languageId": "plaintext"
    }
   },
   "outputs": [],
   "source": [
    "def texto_formula(df, var_dependente, excluir_cols):\n",
    "    variaveis = list(df.columns.values)\n",
    "    variaveis.remove(var_dependente)\n",
    "    for col in excluir_cols:\n",
    "        variaveis.remove(col)\n",
    "    return var_dependente + ' ~ ' + ' + '.join(variaveis)\n",
    "\n",
    "texto_regressao = texto_formula(casas_dummy, 'property_value', '')\n"
   ]
  },
  {
   "cell_type": "code",
   "execution_count": null,
   "metadata": {
    "vscode": {
     "languageId": "plaintext"
    }
   },
   "outputs": [],
   "source": [
    "#%% Regressão Linear Múltipla\n",
    "\n",
    "# Estimação do modelo\n",
    "reg_casas = sm.OLS.from_formula(formula = texto_regressao,\n",
    "                                data=casas_dummy).fit()\n",
    "\n",
    "# Obtenção dos outputs\n",
    "reg_casas.summary()\n",
    "\n",
    "#%% Valores preditos pelo modelo para as observações da amostra\n",
    "\n",
    "casas['fitted'] = reg_casas.fittedvalues\n",
    "\n",
    "#%% Analisando os resíduos do modelo\n",
    "\n",
    "# resíduos = valores observados - valores preditos\n",
    "reg_casas.resid\n",
    "\n",
    "#%% Alguns coeficientes podem apresentar uma interpretação \"inesperada\"\n",
    "\n",
    "# Exemplos:\n",
    "    ## quanto maior o tamanho da casa, menor o preço (ceteris paribus)\n",
    "    ## quanto mais quartos, menor o preço (ceteris paribus)\n",
    "    \n",
    "# É importante notar que os resultados são interpretados de forma multivariada\n",
    "    ## o resultado ocorre na presença das demais variáveis\n",
    "    \n",
    "#%% Matriz de correlações de Pearson entre variáveis métricas\n",
    "\n",
    "df_quanti = casas[['land_size_sqm',\n",
    "                   'house_size_sqm',\n",
    "                   'no_of_rooms',\n",
    "                   'no_of_bathrooms',\n",
    "                   'distance_to_school',\n",
    "                   'house_age',\n",
    "                   'distance_to_supermarket_km',\n",
    "                   'crime_rate_index',\n",
    "                   'property_value']]\n",
    "\n",
    "# Criando a matriz de correlações\n",
    "correl = df_quanti.corr()\n",
    "\n",
    "# Gerando o gráfico\n",
    "sns.heatmap(correl, \n",
    "            annot=True, annot_kws={'size':8}, fmt=\".2f\", \n",
    "            cmap = plt.cm.viridis,\n",
    "            square=True, linewidths=0.1)\n",
    "plt.tick_params(labelsize=6)\n",
    "plt.title('Correlações de Pearson', fontsize=10)\n",
    "plt.show()\n",
    "\n",
    "#%% Criando nova da fórmula\n",
    "\n",
    "# 'land_size_sqm' tem correlação elevada com 'house_size_sqm' e 'no_of_rooms'\n",
    "# Vamos remover o tamanho do terreno do modelo\n",
    "\n",
    "novo_modelo = texto_formula(casas_dummy, 'property_value', ['land_size_sqm'])\n",
    "## Nota: o 3º argumento contém as variáveis excluídas - entrar como lista\n",
    "\n",
    "#%% Novo modelo\n",
    "\n",
    "# Estimação do modelo\n",
    "reg_casas_novo = sm.OLS.from_formula(formula = novo_modelo,\n",
    "                                     data=casas_dummy).fit()\n",
    "\n",
    "# Obtenção dos outputs\n",
    "reg_casas_novo.summary()\n",
    "\n",
    "#%% Coeficientes\n",
    "\n",
    "# Note que o 'house_size_sqm' e 'no_of_rooms' agora têm impactos positivos\n",
    "\n",
    "#%% Realizando predições para outras observações (modelo original)\n",
    "\n",
    "# Qual é o preço médio estimado para uma casa com:\n",
    "    # tamanho do terreno (m²) = 350\n",
    "    # tamanho da casa (m²) = 200\n",
    "    # quantidade de quartos = 3\n",
    "    # quantidade de banheiros = 3\n",
    "    # distância até a escola (km) = 4.5\n",
    "    # idade da casa (anos) = 5\n",
    "    # distância até o mercado (km) = 1.0\n",
    "    # indicador de criminalidade da região = 1.20\n",
    "    # sala ampla: sim\n",
    "    # garagem: sim\n",
    "    # jardim frontal: sim\n",
    "    # piscina: sim\n",
    "    # cercado: não\n",
    "    # vista para lagos/rios: não\n",
    "    # classificação dos quartos: classe 2\n",
    "\n",
    "# Utilizando a função \"predict\"\n",
    "obs_predict = pd.DataFrame({'land_size_sqm': [350],\n",
    "                            'house_size_sqm': [200], \n",
    "                            'no_of_rooms': [3], \n",
    "                            'no_of_bathrooms': [3],\n",
    "                            'distance_to_school': [4.5], \n",
    "                            'house_age': [5], \n",
    "                            'distance_to_supermarket_km': [1.0],\n",
    "                            'crime_rate_index': [1.2], \n",
    "                            'large_living_room_Yes': [1],\n",
    "                            'parking_space_Yes': [1], \n",
    "                            'front_garden_Yes': [1], \n",
    "                            'swimming_pool_Yes': [1],\n",
    "                            'wall_fence_Yes': [0],\n",
    "                            'water_front_Yes': [0], \n",
    "                            'room_size_class_Three': [0],\n",
    "                            'room_size_class_Two': [1], \n",
    "                            'room_size_class_Zero': [0]})\n",
    "\n",
    "print(f'preço estimado: {round(reg_casas.predict(obs_predict)[0],2)}')\n",
    "\n",
    "#%% Comparando graficamente os ajustes dos modelos\n",
    "\n",
    "sns.regplot(casas, x='property_value', y='fitted', marker='o', color='purple', scatter_kws={'s':0.50}, line_kws={'color':'red', 'lw':2})\n",
    "plt.title('Análise Gráfica do Ajuste', fontsize=10)\n",
    "plt.xlabel('Preço Observado', fontsize=10)\n",
    "plt.ylabel('Preço Previsto pelo Modelo', fontsize=10)\n",
    "plt.tick_params(labelsize=6)\n",
    "plt.axline((0, 0), (max(casas['property_value']), max(casas['property_value'])), linewidth=1, color='grey')\n",
    "plt.show()\n"
   ]
  }
 ],
 "metadata": {
  "language_info": {
   "name": "python"
  }
 },
 "nbformat": 4,
 "nbformat_minor": 2
}
